{
 "cells": [
  {
   "cell_type": "code",
   "execution_count": 1,
   "id": "whole-figure",
   "metadata": {},
   "outputs": [],
   "source": [
    "import numpy\n",
    "import matplotlib\n",
    "import matplotlib.pyplot as plt\n",
    "matplotlib.style.use('ggplot')\n",
    "%matplotlib inline"
   ]
  },
  {
   "cell_type": "code",
   "execution_count": 2,
   "id": "fatty-sensitivity",
   "metadata": {},
   "outputs": [],
   "source": [
    "from tensorflow.keras.datasets import mnist\n",
    "\n",
    "# Модель с последовательным проходом по слоям\n",
    "from tensorflow.keras.models import Sequential\n",
    "\n",
    "# Слои: полносвязный, Dropout, входной слой, вытягивающий в одномерный вектор 784х1\n",
    "from tensorflow.keras.layers import Dense, Dropout, Flatten\n",
    "\n",
    "# Различные виды вариантов расчета градиентного спуска\n",
    "from tensorflow.keras.optimizers import SGD, RMSprop, Nadam\n",
    "\n",
    "# Чтобы сделать выходы one-hot \n",
    "from tensorflow.keras import utils\n",
    "\n",
    "# Инициализация параметров слоев\n",
    "from tensorflow.keras import initializers\n",
    "\n",
    "# Критерии качества\n",
    "from tensorflow.keras.losses import categorical_crossentropy\n",
    "\n",
    "# Не углублялся, но что-то вроде критерия останова\n",
    "from tensorflow.keras.callbacks import EarlyStopping, TensorBoard"
   ]
  },
  {
   "cell_type": "code",
   "execution_count": 3,
   "id": "northern-stockholm",
   "metadata": {},
   "outputs": [],
   "source": [
    "(X_train, y_train), (X_test, y_test) = mnist.load_data()"
   ]
  },
  {
   "cell_type": "code",
   "execution_count": 4,
   "id": "liquid-basic",
   "metadata": {},
   "outputs": [],
   "source": [
    "# Нормализация к границам [0;1]\n",
    "X_train = X_train.astype('float32')/255\n",
    "X_test = X_test.astype('float32')/255"
   ]
  },
  {
   "cell_type": "code",
   "execution_count": 5,
   "id": "funded-sustainability",
   "metadata": {},
   "outputs": [],
   "source": [
    "# One-hot encoding\n",
    "Y_train = utils.to_categorical(y_train, 10)\n",
    "Y_test = utils.to_categorical(y_test, 10)"
   ]
  }
 ],
 "metadata": {
  "kernelspec": {
   "display_name": "Python 3",
   "language": "python",
   "name": "python3"
  },
  "language_info": {
   "codemirror_mode": {
    "name": "ipython",
    "version": 3
   },
   "file_extension": ".py",
   "mimetype": "text/x-python",
   "name": "python",
   "nbconvert_exporter": "python",
   "pygments_lexer": "ipython3",
   "version": "3.9.2"
  }
 },
 "nbformat": 4,
 "nbformat_minor": 5
}
